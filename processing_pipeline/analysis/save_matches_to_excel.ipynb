{
 "cells": [
  {
   "cell_type": "code",
   "execution_count": 20,
   "id": "38c8be23",
   "metadata": {},
   "outputs": [
    {
     "name": "stdout",
     "output_type": "stream",
     "text": [
      "/Users/danarapp/Desktop/scientific-software-architecture-analysis\n"
     ]
    }
   ],
   "source": [
    "cd /Users/danarapp/Desktop/scientific-software-architecture-analysis"
   ]
  },
  {
   "cell_type": "code",
   "execution_count": 22,
   "id": "2cf287e7",
   "metadata": {},
   "outputs": [],
   "source": [
    "from IPython.display import display\n",
    "from constants.abs_paths import AbsDirPath\n",
    "from pathlib import Path\n",
    "from processing_pipeline.utilities.data_transformation import load_all_files\n",
    "import openpyxl\n",
    "import pandas as pd\n",
    "\n",
    "def display_and_save(df, path):\n",
    "    df.to_excel(path, merge_cells=False)\n",
    "    display(df)\n",
    "\n",
    "def display_and_save_csv(df, path):\n",
    "    df.to_csv(path)\n",
    "    display(df)"
   ]
  },
  {
   "cell_type": "code",
   "execution_count": 23,
   "id": "d2871e98",
   "metadata": {},
   "outputs": [
    {
     "ename": "AttributeError",
     "evalue": "type object 'AbsDirPath' has no attribute 'SECOND_KEYWORDS_MATCHING'",
     "output_type": "error",
     "traceback": [
      "\u001b[0;31m---------------------------------------------------------------------------\u001b[0m",
      "\u001b[0;31mAttributeError\u001b[0m                            Traceback (most recent call last)",
      "Cell \u001b[0;32mIn[23], line 1\u001b[0m\n\u001b[0;32m----> 1\u001b[0m base_dir \u001b[38;5;241m=\u001b[39m Path(\u001b[43mAbsDirPath\u001b[49m\u001b[38;5;241;43m.\u001b[39;49m\u001b[43mSECOND_KEYWORDS_MATCHING\u001b[49m)\n\u001b[1;32m      2\u001b[0m full_dir \u001b[38;5;241m=\u001b[39m base_dir \u001b[38;5;241m/\u001b[39m \u001b[38;5;124m\"\u001b[39m\u001b[38;5;124mfull\u001b[39m\u001b[38;5;124m\"\u001b[39m\n\u001b[1;32m      4\u001b[0m df_git \u001b[38;5;241m=\u001b[39m load_all_files(base_dir)\n",
      "\u001b[0;31mAttributeError\u001b[0m: type object 'AbsDirPath' has no attribute 'SECOND_KEYWORDS_MATCHING'"
     ]
    }
   ],
   "source": [
    "base_dir = Path(AbsDirPath.SECOND_KEYWORDS_MATCHING)\n",
    "full_dir = base_dir / \"full\"\n",
    "\n",
    "df_git = load_all_files(base_dir)\n",
    "df_comments = load_all_files(full_dir)"
   ]
  },
  {
   "cell_type": "code",
   "execution_count": 8,
   "id": "93f6e180",
   "metadata": {},
   "outputs": [],
   "source": [
    "# For datatransfer\n",
    "df_git_datatransfer = df_git[df_git[\"qa\"] == \"datatransfer\"]\n",
    "df_comments_datatransfer = df_comments[df_comments[\"qa\"] == \"datatransfer\"]\n",
    "\n",
    "# For UI\n",
    "df_git_ui = df_git[df_git[\"qa\"] == \"UI\"]\n",
    "df_comments_ui = df_comments[df_comments[\"qa\"] == \"UI\"]\n",
    "\n",
    "# Filter for code_optimization\n",
    "df_git_codeopt = df_git[df_git[\"qa\"] == \"code_optimization\"]\n",
    "df_comments_codeopt = df_comments[df_comments[\"qa\"] == \"code_optimization\"]\n"
   ]
  },
  {
   "cell_type": "code",
   "execution_count": 9,
   "id": "9e8202f1",
   "metadata": {},
   "outputs": [
    {
     "name": "stdout",
     "output_type": "stream",
     "text": [
      "[dedupe] Removed 91 duplicates (from 469 → 378) in dfs[0]\n",
      "[dedupe] Removed 9 duplicates (from 80 → 71) in dfs[1]\n",
      "[dedupe] Removed 140 duplicates (from 379 → 239) in dfs[2]\n",
      "[dedupe] Removed 204 duplicates (from 342 → 138) in dfs[3]\n",
      "[dedupe] Removed 8 duplicates (from 54 → 46) in dfs[4]\n",
      "[dedupe] Removed 0 duplicates (from 12 → 12) in dfs[5]\n"
     ]
    }
   ],
   "source": [
    "excel_filename = \"test.xlsx\"  # change as needed\n",
    "out_dir = Path(\"/Users/danarapp/Desktop/scientific-software-architecture-analysis/processing_pipeline/analysis/analyzed_matches\")\n",
    "out_dir.mkdir(parents=True, exist_ok=True)\n",
    "out_path = out_dir / excel_filename\n",
    "\n",
    "# Explicit list of DataFrames to export\n",
    "dfs = [\n",
    "    df_git_datatransfer,\n",
    "    df_comments_datatransfer,\n",
    "    df_git_ui,\n",
    "    df_comments_ui,\n",
    "    df_git_codeopt,\n",
    "    df_comments_codeopt,\n",
    "]\n",
    "\n",
    "# Deduplicate each df in-place (by url + matched_word) and report removals\n",
    "for i, df in enumerate(dfs):\n",
    "    before = len(df)\n",
    "    deduped = df.drop_duplicates(subset=[\"url\", \"matched_word\"], keep=\"first\").copy()\n",
    "    removed = before - len(deduped)\n",
    "    dfs[i] = deduped\n",
    "    print(f\"[dedupe] Removed {removed} duplicates (from {before} → {len(deduped)}) in dfs[{i}]\")\n"
   ]
  },
  {
   "cell_type": "code",
   "execution_count": null,
   "id": "5c415640",
   "metadata": {},
   "outputs": [
    {
     "name": "stdout",
     "output_type": "stream",
     "text": [
      "Saved review workbook to: /Users/danarapp/Desktop/scientific-software-architecture-analysis/processing_pipeline/analysis/analyzed_matches/test.xlsx\n"
     ]
    }
   ],
   "source": [
    "\n",
    "# Columns to include in the Excel (includes new columns)\n",
    "review_cols = [\"row_id\", \"matched_word\", \"sentence\", \"source\", \"url\", \"pattern\", \"commit_url\", \"comment\"]\n",
    "\n",
    "# ==============================\n",
    "# Helpers\n",
    "# ==============================\n",
    "def excel_hyperlink_formula(url: str) -> str:\n",
    "    \"\"\"Return an Excel HYPERLINK() formula that shows the raw URL text and is clickable.\"\"\"\n",
    "    if not isinstance(url, str) or not url.strip():\n",
    "        return \"\"\n",
    "    safe = url.replace('\"', '\"\"')\n",
    "    return f'=HYPERLINK(\"{safe}\", \"{safe}\")'\n",
    "\n",
    "def ensure_schema(df: pd.DataFrame) -> pd.DataFrame:\n",
    "    \"\"\"Ensure required columns exist and add row_id (original index).\"\"\"\n",
    "    d = df.copy()\n",
    "    if \"pattern\" not in d.columns:\n",
    "        d[\"pattern\"] = \"\"           # default empty\n",
    "    if \"url\" not in d.columns:\n",
    "        d[\"url\"] = \"\"\n",
    "    if \"commit_url\" not in d.columns:\n",
    "        d[\"commit_url\"] = \"\"        # new column\n",
    "    if \"comment\" not in d.columns:\n",
    "        d[\"comment\"] = \"\"           # new column\n",
    "    d[\"row_id\"] = d.index           # keep original index for traceability\n",
    "    return d\n",
    "\n",
    "\n",
    "\n",
    "# ==============================\n",
    "# Write Excel with multiple sheets (fixed sheet names)\n",
    "# ==============================\n",
    "names = [\n",
    "    \"git_datatransfer\",\n",
    "    \"comments_datatransfer\",\n",
    "    \"git_UI\",\n",
    "    \"comments_UI\",\n",
    "    \"git_code_optimization\",\n",
    "    \"comments_code_optimization\",\n",
    "]\n",
    "\n",
    "with pd.ExcelWriter(out_path, engine=\"openpyxl\") as writer:\n",
    "    for name, df in zip(names, dfs):\n",
    "        dfx = ensure_schema(df)\n",
    "        out = dfx.reindex(columns=review_cols)\n",
    "\n",
    "        # Make both URL columns clickable with raw URL as text\n",
    "        out[\"url\"] = out[\"url\"].apply(excel_hyperlink_formula)\n",
    "        out[\"commit_url\"] = out[\"commit_url\"].apply(excel_hyperlink_formula)\n",
    "\n",
    "        # Write sheet with explicit, unique name\n",
    "        out.to_excel(writer, sheet_name=name, index=False)\n",
    "\n",
    "        # Freeze header row\n",
    "        ws = writer.sheets[name]\n",
    "        ws.freeze_panes = \"A2\"\n",
    "\n",
    "print(f\"Saved review workbook to: {out_path}\")\n",
    "\n"
   ]
  }
 ],
 "metadata": {
  "kernelspec": {
   "display_name": "kw",
   "language": "python",
   "name": "python3"
  },
  "language_info": {
   "codemirror_mode": {
    "name": "ipython",
    "version": 3
   },
   "file_extension": ".py",
   "mimetype": "text/x-python",
   "name": "python",
   "nbconvert_exporter": "python",
   "pygments_lexer": "ipython3",
   "version": "3.12.11"
  }
 },
 "nbformat": 4,
 "nbformat_minor": 5
}
