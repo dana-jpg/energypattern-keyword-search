{
 "cells": [
  {
   "cell_type": "code",
   "execution_count": 2,
   "id": "279263ce",
   "metadata": {},
   "outputs": [
    {
     "name": "stdout",
     "output_type": "stream",
     "text": [
      "/Users/danarapp/Desktop/energypattern-keyword-search\n"
     ]
    }
   ],
   "source": [
    "cd /Users/danarapp/Desktop/energypattern-keyword-search"
   ]
  },
  {
   "cell_type": "code",
   "execution_count": 3,
   "id": "42275d56",
   "metadata": {},
   "outputs": [],
   "source": [
    "from IPython.display import display\n",
    "from constants.abs_paths import AbsDirPath\n",
    "from pathlib import Path\n",
    "from processing_pipeline.utilities.data_transformation import load_all_files\n",
    "import openpyxl\n",
    "import pandas as pd\n",
    "\n",
    "def display_and_save(df, path):\n",
    "    df.to_excel(path, merge_cells=False)\n",
    "    display(df)\n",
    "\n",
    "def display_and_save_csv(df, path):\n",
    "    df.to_csv(path)\n",
    "    display(df)"
   ]
  },
  {
   "cell_type": "code",
   "execution_count": 4,
   "id": "9a85b17e",
   "metadata": {},
   "outputs": [
    {
     "name": "stdout",
     "output_type": "stream",
     "text": [
      "Loaded 10 files, [PosixPath('/Users/danarapp/Desktop/energypattern-keyword-search/data/keywords_2/second_testiteration/zulip.zulip.11.2.issue_comment.parquet'), PosixPath('/Users/danarapp/Desktop/energypattern-keyword-search/data/keywords_2/second_testiteration/netbox-community.netbox.v4.4.1.issue.parquet'), PosixPath('/Users/danarapp/Desktop/energypattern-keyword-search/data/keywords_2/second_testiteration/zulip.zulip.11.2.issue.parquet'), PosixPath('/Users/danarapp/Desktop/energypattern-keyword-search/data/keywords_2/second_testiteration/netbox-community.netbox.v4.4.1.release.parquet'), PosixPath('/Users/danarapp/Desktop/energypattern-keyword-search/data/keywords_2/second_testiteration/paperless-ngx.paperless-ngx.v2.18.4.issue.parquet'), PosixPath('/Users/danarapp/Desktop/energypattern-keyword-search/data/keywords_2/second_testiteration/saleor.saleor.3.21.19.issue.parquet'), PosixPath('/Users/danarapp/Desktop/energypattern-keyword-search/data/keywords_2/second_testiteration/saleor.saleor.3.21.19.release.parquet'), PosixPath('/Users/danarapp/Desktop/energypattern-keyword-search/data/keywords_2/second_testiteration/paperless-ngx.paperless-ngx.v2.18.4.issue_comment.parquet'), PosixPath('/Users/danarapp/Desktop/energypattern-keyword-search/data/keywords_2/second_testiteration/saleor.saleor.3.21.19.issue_comment.parquet'), PosixPath('/Users/danarapp/Desktop/energypattern-keyword-search/data/keywords_2/second_testiteration/netbox-community.netbox.v4.4.1.issue_comment.parquet')]\n",
      "Loaded 6 files, [PosixPath('/Users/danarapp/Desktop/energypattern-keyword-search/data/keywords_2/second_testiteration/full/zulip.zulip.11.2.docs.parquet'), PosixPath('/Users/danarapp/Desktop/energypattern-keyword-search/data/keywords_2/second_testiteration/full/zulip.zulip.11.2.code_comment.parquet'), PosixPath('/Users/danarapp/Desktop/energypattern-keyword-search/data/keywords_2/second_testiteration/full/saleor.saleor.3.21.19.code_comment.parquet'), PosixPath('/Users/danarapp/Desktop/energypattern-keyword-search/data/keywords_2/second_testiteration/full/netbox-community.netbox.v4.4.1.docs.parquet'), PosixPath('/Users/danarapp/Desktop/energypattern-keyword-search/data/keywords_2/second_testiteration/full/paperless-ngx.paperless-ngx.v2.18.4.code_comment.parquet'), PosixPath('/Users/danarapp/Desktop/energypattern-keyword-search/data/keywords_2/second_testiteration/full/netbox-community.netbox.v4.4.1.code_comment.parquet')]\n"
     ]
    }
   ],
   "source": [
    "base_dir = Path(AbsDirPath.SECOND_KEYWORDS_MATCHING)\n",
    "full_dir = base_dir / \"full\"\n",
    "\n",
    "df_git = load_all_files(base_dir)\n",
    "df_comments = load_all_files(full_dir)"
   ]
  },
  {
   "cell_type": "code",
   "execution_count": 5,
   "id": "0b887389",
   "metadata": {},
   "outputs": [],
   "source": [
    "# For datatransfer\n",
    "df_git_datatransfer = df_git[df_git[\"qa\"] == \"datatransfer\"]\n",
    "df_comments_datatransfer = df_comments[df_comments[\"qa\"] == \"datatransfer\"]\n",
    "\n",
    "# For UI\n",
    "df_git_ui = df_git[df_git[\"qa\"] == \"UI\"]\n",
    "df_comments_ui = df_comments[df_comments[\"qa\"] == \"UI\"]\n",
    "\n",
    "# Filter for code_optimization\n",
    "df_git_codeopt = df_git[df_git[\"qa\"] == \"code_optimization\"]\n",
    "df_comments_codeopt = df_comments[df_comments[\"qa\"] == \"code_optimization\"]\n"
   ]
  }
 ],
 "metadata": {
  "kernelspec": {
   "display_name": "kw",
   "language": "python",
   "name": "python3"
  },
  "language_info": {
   "codemirror_mode": {
    "name": "ipython",
    "version": 3
   },
   "file_extension": ".py",
   "mimetype": "text/x-python",
   "name": "python",
   "nbconvert_exporter": "python",
   "pygments_lexer": "ipython3",
   "version": "3.12.11"
  }
 },
 "nbformat": 4,
 "nbformat_minor": 5
}
