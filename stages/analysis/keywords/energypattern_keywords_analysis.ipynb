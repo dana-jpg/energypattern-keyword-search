{
 "cells": [
  {
   "cell_type": "code",
   "execution_count": 16,
   "id": "7611286c",
   "metadata": {},
   "outputs": [
    {
     "name": "stdout",
     "output_type": "stream",
     "text": [
      "First 25 keywords for Data Transfer:\n",
      "['energi', 'softwar', 'consumpt', 'use', 'code', 'python', 'pattern', 'develop', 'data', 'studi', 'applic', 'power', 'llm', 'program', 'commit', 'system', 'comput', 'languag', 'perform', 'refactor', 'effici', 'differ', 'result', 'research', 'app', 'measur', 'compil', 'engin', 'intern', 'question', 'work', 'time', 'also', 'mobil', 'gener', 'confer', 'solut', 'answer', 'numpi', 'execut', 'design', 'tool', 'ieee', 'nuitka', 'robot', 'techniqu', 'theme', 'bug', 'green', 'proceed']\n"
     ]
    }
   ],
   "source": [
    "import pandas as pd\n",
    "\n",
    "# Path to your Excel file\n",
    "excel_path = \"/Users/danarapp/Desktop/scientific-software-architecture-analysis/data/keyword_scoring/keyword_scoring_energypatterns.xlsx\"\n",
    "\n",
    "# Read the refined c-TF-IDF sheet\n",
    "df = pd.read_excel(excel_path, sheet_name=\"QA_Refined_cTFIDF\")\n",
    "\n",
    "# Show the top 20 most relevant keywords, sorted by the main refined score\n",
    "top_keywords = df.sort_values(\"Refined Score (cTFIDF_Sum * PUS)\", ascending=False).head(50)\n",
    "#display(top_keywords[[\"Term (Processed)\", \"Original Word(s)\", \"Refined Score (cTFIDF_Sum * PUS)\"]])\n",
    "\n",
    "keywords_list = top_keywords[\"Term (Processed)\"].tolist()\n",
    "\n",
    "print(\"First 25 keywords for Data Transfer:\")\n",
    "print(keywords_list)"
   ]
  },
  {
   "cell_type": "code",
   "execution_count": null,
   "id": "989cd316",
   "metadata": {},
   "outputs": [],
   "source": []
  },
  {
   "cell_type": "code",
   "execution_count": 7,
   "id": "356c089a",
   "metadata": {},
   "outputs": [
    {
     "data": {
      "text/html": [
       "<div>\n",
       "<style scoped>\n",
       "    .dataframe tbody tr th:only-of-type {\n",
       "        vertical-align: middle;\n",
       "    }\n",
       "\n",
       "    .dataframe tbody tr th {\n",
       "        vertical-align: top;\n",
       "    }\n",
       "\n",
       "    .dataframe thead th {\n",
       "        text-align: right;\n",
       "    }\n",
       "</style>\n",
       "<table border=\"1\" class=\"dataframe\">\n",
       "  <thead>\n",
       "    <tr style=\"text-align: right;\">\n",
       "      <th></th>\n",
       "      <th>Term (Processed)</th>\n",
       "      <th>Original Word(s)</th>\n",
       "      <th>c-TF-IDF (AvgTF_all_QA_docs)</th>\n",
       "    </tr>\n",
       "  </thead>\n",
       "  <tbody>\n",
       "    <tr>\n",
       "      <th>0</th>\n",
       "      <td>energi</td>\n",
       "      <td>(energies, energy)</td>\n",
       "      <td>109.840723</td>\n",
       "    </tr>\n",
       "    <tr>\n",
       "      <th>1</th>\n",
       "      <td>softwar</td>\n",
       "      <td>(software, softwares)</td>\n",
       "      <td>52.263297</td>\n",
       "    </tr>\n",
       "    <tr>\n",
       "      <th>2</th>\n",
       "      <td>consumpt</td>\n",
       "      <td>(consumption, consumptions)</td>\n",
       "      <td>49.906597</td>\n",
       "    </tr>\n",
       "    <tr>\n",
       "      <th>3</th>\n",
       "      <td>use</td>\n",
       "      <td>(use, used, useful, usefulness, uses, using)</td>\n",
       "      <td>48.658932</td>\n",
       "    </tr>\n",
       "    <tr>\n",
       "      <th>4</th>\n",
       "      <td>code</td>\n",
       "      <td>(code, coded, codes, coding)</td>\n",
       "      <td>33.871792</td>\n",
       "    </tr>\n",
       "    <tr>\n",
       "      <th>5</th>\n",
       "      <td>develop</td>\n",
       "      <td>(develop, developed, developer, developers, de...</td>\n",
       "      <td>29.712909</td>\n",
       "    </tr>\n",
       "    <tr>\n",
       "      <th>6</th>\n",
       "      <td>pattern</td>\n",
       "      <td>(pattern, patterned, patterns)</td>\n",
       "      <td>26.709271</td>\n",
       "    </tr>\n",
       "    <tr>\n",
       "      <th>7</th>\n",
       "      <td>data</td>\n",
       "      <td>data</td>\n",
       "      <td>26.016124</td>\n",
       "    </tr>\n",
       "    <tr>\n",
       "      <th>9</th>\n",
       "      <td>applic</td>\n",
       "      <td>(applicability, applicable, application, appli...</td>\n",
       "      <td>23.613214</td>\n",
       "    </tr>\n",
       "    <tr>\n",
       "      <th>10</th>\n",
       "      <td>power</td>\n",
       "      <td>(power, powered, powerful, powering, powers)</td>\n",
       "      <td>22.873857</td>\n",
       "    </tr>\n",
       "  </tbody>\n",
       "</table>\n",
       "</div>"
      ],
      "text/plain": [
       "   Term (Processed)                                   Original Word(s)  \\\n",
       "0            energi                                 (energies, energy)   \n",
       "1           softwar                              (software, softwares)   \n",
       "2          consumpt                        (consumption, consumptions)   \n",
       "3               use       (use, used, useful, usefulness, uses, using)   \n",
       "4              code                       (code, coded, codes, coding)   \n",
       "5           develop  (develop, developed, developer, developers, de...   \n",
       "6           pattern                     (pattern, patterned, patterns)   \n",
       "7              data                                               data   \n",
       "9            applic  (applicability, applicable, application, appli...   \n",
       "10            power       (power, powered, powerful, powering, powers)   \n",
       "\n",
       "    c-TF-IDF (AvgTF_all_QA_docs)  \n",
       "0                     109.840723  \n",
       "1                      52.263297  \n",
       "2                      49.906597  \n",
       "3                      48.658932  \n",
       "4                      33.871792  \n",
       "5                      29.712909  \n",
       "6                      26.709271  \n",
       "7                      26.016124  \n",
       "9                      23.613214  \n",
       "10                     22.873857  "
      ]
     },
     "metadata": {},
     "output_type": "display_data"
    }
   ],
   "source": [
    "# Top 10 keywords by c-TF-IDF (AvgTF_all_QA_docs)\n",
    "display(\n",
    "    df.sort_values(\"c-TF-IDF (AvgTF_all_QA_docs)\", ascending=False)\n",
    "      .head(10)[[\"Term (Processed)\", \"Original Word(s)\", \"c-TF-IDF (AvgTF_all_QA_docs)\"]])"
   ]
  },
  {
   "cell_type": "code",
   "execution_count": 18,
   "id": "11ed9a70",
   "metadata": {},
   "outputs": [
    {
     "name": "stdout",
     "output_type": "stream",
     "text": [
      "['cach', 'content', 'eecof', 'ccn', 'energi', 'zipf', 'pit', 'in-network', 'applic', 'offload', 'node', 'network', 'router', 'comput', 'mobil', 'scheme', 'cienci', 'data', 'qp', 'cloudlet', 'hop', 'use', 'packet', 'isp', 'request', 'traf', 'consumpt', 'cache-en', 'cloud', 'time', 'ofoad', 'devic', 'energy-ef', 'oad', 'server', 'ofoading-decis', 'local', 'servic', 'process', 'interest', 'mcc', 'optim', 'power', 'wireless', 'commun', 'eecp', 'knapsack', 'smd', 'information-centr', 'user', 'libos-tun', 'vol', 'probabl', 'proc', 'ieee', 'polici', 'deadlin', 'ecc', 'valu', 'transmiss', 'cient', 'fig', 'perform', 'vvtc', 'dee', 'fib', 'delay', 'size', 'between', 'sop', 'system', 'path', 'linux-tun', 'netpip', 'effici', 'base', 'transmit', 'distribut', 'nearest', 'propos', 'neighbor', 'cost', 'partit', 'ebbrt', 'increas', 'china', 'compon', 'averag', 'cisco', 'execut', 'popular', 'differ', 'conf', 'algorithm', 'result', 'remot', 'clru', 'figur', 'decis', 'cellular']\n"
     ]
    }
   ],
   "source": [
    "# Read and display top keywords for Data Transfer\n",
    "df_datatransfer = pd.read_excel(\n",
    "    \"/Users/danarapp/Desktop/scientific-software-architecture-analysis/data/keyword_scoring/keyword_scoring_datatransfer.xlsx\",\n",
    "    sheet_name=\"QA_Refined_cTFIDF\"\n",
    ")\n",
    "top_keywords_datatransfer = df_datatransfer.sort_values(\n",
    "    \"Refined Score (cTFIDF_Sum * PUS)\", ascending=False\n",
    ").head(100)\n",
    "#print(\"Top keywords for Data Transfer:\")\n",
    "#display(top_keywords_datatransfer[[\"Term (Processed)\", \"Original Word(s)\", \"Refined Score (cTFIDF_Sum * PUS)\"]])\n",
    "\n",
    "keywords_list = top_keywords_datatransfer[\"Term (Processed)\"].tolist()\n",
    "\n",
    "#print(\"First 25 keywords for Data Transfer:\")\n",
    "print(keywords_list)"
   ]
  },
  {
   "cell_type": "code",
   "execution_count": 19,
   "id": "5c4b5fac",
   "metadata": {},
   "outputs": [
    {
     "name": "stdout",
     "output_type": "stream",
     "text": [
      "['user', 'energi', 'display', 'use', 'gggg', 'klm', 'mobil', 'system', 'screen', 'power', 'ggg', 'gui', 'design', 'dissert', 'handheld', 'chapter', 'comput', 'model', 'ggggg', 'energy-adapt', 'ggggggg', 'klem', 'ggggggggg', 'ambient', 'widget', 'stylu', 'interfac', 'consumpt', 'button', 'gggggggg', 'resolut', 'applic', 'palm', 'time', 'scrollbar', 'gggggggggg', 'devic', 'window', 'keystrok', 'pixel', 'vnc', 'ggggggggggg', 'interact', 'task', 'cognit', 'cogtool', 'pda', 'peirc', 'differ', 'textur', 'lcd', 'perform', 'figur', 'astrord', 'keyboard', 'oper', 'hci', 'softwar', 'gggggggggggg', 'gggggggggggggg', 'framer', 'gom', 'bar', 'mco', 'modal', 'also', 'hada', 'human', 'predict', 'ggggggggggggg', 'studi', 'confer', 'prole', 'efcienc', 'hardwar', 'bright', 'input', 'backlight', 'gggggg', 'batteri', 'level', 'activ', 'game', 'develop', 'ole', 'save', 'menu', 'graphic', 'grafti', 'act-r', 'storyboard', 'section', 'render', 'screenshot', 'process', 'one', 'gggggggggggggggg', 'ggggggggggggggggggg', 'speech', 'requir']\n"
     ]
    }
   ],
   "source": [
    "# Read and display top keywords for UI\n",
    "df_ui = pd.read_excel(\n",
    "    \"/Users/danarapp/Desktop/scientific-software-architecture-analysis/data/keyword_scoring/keyword_scoring_UI.xlsx\",\n",
    "    sheet_name=\"QA_Refined_cTFIDF\"\n",
    ")\n",
    "top_keywords_ui = df_ui.sort_values(\n",
    "    \"Refined Score (cTFIDF_Sum * PUS)\", ascending=False\n",
    ").head(100)\n",
    "#print(\"Top keywords for UI:\")\n",
    "keywords_list = top_keywords_ui[\"Term (Processed)\"].tolist()\n",
    "\n",
    "#print(\"First 25 keywords for Data Transfer:\")\n",
    "print(keywords_list)\n",
    "#display(top_keywords_ui[[\"Term (Processed)\", \"Original Word(s)\", \"Refined Score (cTFIDF_Sum * PUS)\"]])"
   ]
  }
 ],
 "metadata": {
  "kernelspec": {
   "display_name": "kw",
   "language": "python",
   "name": "python3"
  },
  "language_info": {
   "codemirror_mode": {
    "name": "ipython",
    "version": 3
   },
   "file_extension": ".py",
   "mimetype": "text/x-python",
   "name": "python",
   "nbconvert_exporter": "python",
   "pygments_lexer": "ipython3",
   "version": "3.12.11"
  }
 },
 "nbformat": 4,
 "nbformat_minor": 5
}
